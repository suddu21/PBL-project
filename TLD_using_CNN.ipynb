{
  "nbformat": 4,
  "nbformat_minor": 0,
  "metadata": {
    "colab": {
      "name": "TLD_using_CNN.ipynb",
      "provenance": [],
      "collapsed_sections": [],
      "toc_visible": true
    },
    "kernelspec": {
      "name": "python3",
      "display_name": "Python 3"
    }
  },
  "cells": [
    {
      "cell_type": "markdown",
      "metadata": {
        "id": "lf3erznzknOu"
      },
      "source": [
        "# Traffic Light Detection using Machine Learning"
      ]
    },
    {
      "cell_type": "markdown",
      "metadata": {
        "id": "00KdwBdQkVPd"
      },
      "source": [
        "## Step 1 : Importing Libraries"
      ]
    },
    {
      "cell_type": "code",
      "metadata": {
        "id": "7hA4VdyTkbmg"
      },
      "source": [
        "import tensorflow as tf                                                         # used to build convolutinal neural networks                                            \n",
        "from keras.preprocessing.image import ImageDataGenerator                        # used for pre - processing image dataset\n",
        "import numpy as np                                                              # used to load images as 2D arrays"
      ],
      "execution_count": null,
      "outputs": []
    },
    {
      "cell_type": "code",
      "metadata": {
        "id": "msvu-DANmThr"
      },
      "source": [
        "tf.__version__                                                                  # checking tensorflow version"
      ],
      "execution_count": null,
      "outputs": []
    },
    {
      "cell_type": "markdown",
      "metadata": {
        "id": "xDodO_SFmliE"
      },
      "source": [
        "## Step 2 : Data Pre-processing"
      ]
    },
    {
      "cell_type": "markdown",
      "metadata": {
        "id": "wFfn6h3Vmz7H"
      },
      "source": [
        "### Part (i) : Pre-processing training set"
      ]
    },
    {
      "cell_type": "code",
      "metadata": {
        "id": "u4FHOQRjm50K"
      },
      "source": [
        "train_datagen = ImageDataGenerator(                                             \n",
        "        rescale=1./255,\n",
        "        shear_range=0.2,\n",
        "        zoom_range=0.2,\n",
        "        horizontal_flip=True)                                                   # ImageDataGenerator is a class under the keras library to perform real-time image augmentation\n",
        "training_set = train_datagen.flow_from_directory(\n",
        "        'data/train',\n",
        "        target_size=(150, 150),\n",
        "        batch_size=32,\n",
        "        class_mode='categorical')                                               # 'categorical' is the parameter used for multi-class classification type problem"
      ],
      "execution_count": null,
      "outputs": []
    },
    {
      "cell_type": "markdown",
      "metadata": {
        "id": "pQqjrHK-ptva"
      },
      "source": [
        "### Part (ii) : Pre-processing test set"
      ]
    },
    {
      "cell_type": "code",
      "metadata": {
        "id": "YgGDc3UWpzq-"
      },
      "source": [
        "test_datagen = ImageDataGenerator(rescale=1./255)                               # we do not perform image augmentation to test_set\n",
        "test_set = test_datagen.flow_from_directory(\n",
        "        'data/validation',\n",
        "        target_size=(150, 150),\n",
        "        batch_size=32,\n",
        "        class_mode='categorical')"
      ],
      "execution_count": null,
      "outputs": []
    },
    {
      "cell_type": "markdown",
      "metadata": {
        "id": "l6jZia59rMx7"
      },
      "source": [
        "## Step 3 : Buliding a Convolutional Neural Network"
      ]
    },
    {
      "cell_type": "markdown",
      "metadata": {
        "id": "C2c6LQNUrW7N"
      },
      "source": [
        "### Part (i) : Initializing the CNN"
      ]
    },
    {
      "cell_type": "code",
      "metadata": {
        "id": "_StPfMJureJD"
      },
      "source": [
        "cnn = tf.keras.models.Sequential()                                              # CNN is first initialized as a sequence of layers"
      ],
      "execution_count": null,
      "outputs": []
    },
    {
      "cell_type": "markdown",
      "metadata": {
        "id": "SBHQ9HNTr5C2"
      },
      "source": [
        "### Part (ii) : Adding two convolution layers (Convolution + Pooling)"
      ]
    },
    {
      "cell_type": "code",
      "metadata": {
        "id": "ricUCAvvsETn"
      },
      "source": [
        "# Layer 1\n",
        "cnn.add(tf.keras.layers.Conv2D(filters=32, kernel_size=3, activation='relu', input_shape=[64,64,3]))    # convolution\n",
        "cnn.add(tf.keras.layers.MaxPool2D(pool_size=2, strides=2))                                              # Max Pooling\n",
        "\n",
        "# Layer 2\n",
        "cnn.add(tf.keras.layers.Conv2D(filters=32, kernel_size=3, activation='relu'))                           # convolution\n",
        "cnn.add(tf.keras.layers.MaxPool2D(pool_size=2, strides=2))                                              # Max Pooling"
      ],
      "execution_count": null,
      "outputs": []
    },
    {
      "cell_type": "markdown",
      "metadata": {
        "id": "SbKdXfoG1EWO"
      },
      "source": [
        "### Part (iii) : Flattening"
      ]
    },
    {
      "cell_type": "code",
      "metadata": {
        "id": "wN6RbIby1MBH"
      },
      "source": [
        "cnn.add(tf.keras.layers.Flatten())"
      ],
      "execution_count": null,
      "outputs": []
    },
    {
      "cell_type": "markdown",
      "metadata": {
        "id": "GuCzgQsS1jXf"
      },
      "source": [
        "### Part (iv) : Full Connection"
      ]
    },
    {
      "cell_type": "code",
      "metadata": {
        "id": "Yw0Xwfeu1pSx"
      },
      "source": [
        "cnn.add(tf.keras.layers.Dense(units=128, activation='relu'))                    # layer 1 of the Artificial Neural Network (128 units)\n",
        "cnn.add(tf.keras.layers.Dense(units=64, activation='relu'))                     # layer 2 of the Artificial Neural Network (64 units)"
      ],
      "execution_count": null,
      "outputs": []
    },
    {
      "cell_type": "markdown",
      "metadata": {
        "id": "25neKGFt15zT"
      },
      "source": [
        "### Part (v) : Adding final output layer"
      ]
    },
    {
      "cell_type": "code",
      "metadata": {
        "id": "JX2E9Cl12GfI"
      },
      "source": [
        "cnn.add(tf.keras.layers.Dense(6, activation='softmax'))                         # 'softmax' is the activation function used for multi-class classification"
      ],
      "execution_count": null,
      "outputs": []
    },
    {
      "cell_type": "markdown",
      "metadata": {
        "id": "X7MQGMWu3qPO"
      },
      "source": [
        "## Step 4 : Compiling the CNN and training it on training set"
      ]
    },
    {
      "cell_type": "code",
      "metadata": {
        "id": "mQYXXWth30jB"
      },
      "source": [
        "cnn.compile(optimizer = 'adam', loss = 'categorical_crossentropy', metrics = ['accuracy'])        # compiling CNN\n",
        "cnn.fit(x=training_set, validation_data=test_set, epochs=30)                                      # training CNN with 30 epochs"
      ],
      "execution_count": null,
      "outputs": []
    },
    {
      "cell_type": "markdown",
      "metadata": {
        "id": "Isn-UMSq41o1"
      },
      "source": [
        "## Step 5 : Making single-value predictions"
      ]
    },
    {
      "cell_type": "code",
      "metadata": {
        "id": "QH7FKVaK4-0B"
      },
      "source": [
        ""
      ],
      "execution_count": null,
      "outputs": []
    }
  ]
}