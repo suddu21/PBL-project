{
 "cells": [
  {
   "cell_type": "code",
   "execution_count": null,
   "metadata": {
    "colab": {
     "base_uri": "https://localhost:8080/",
     "height": 35
    },
    "id": "SsGA0jBCCao8",
    "outputId": "ecc45581-ecfc-4fee-f63c-63ffb6ab3d62",
    "scrolled": false
   },
   "outputs": [],
   "source": [
    "import tensorflow as tf                                                                                                   \n",
    "from keras.preprocessing.image import ImageDataGenerator                        \n",
    "import numpy as np         \n",
    "import PIL\n",
    "tf.__version__                                                                  "
   ]
  },
  {
   "cell_type": "code",
   "execution_count": null,
   "metadata": {
    "id": "hsc-CDAHCpjZ"
   },
   "outputs": [],
   "source": [
    "train_datagen = ImageDataGenerator(                                             \n",
    "        rescale=1./255,\n",
    "        shear_range=0.2,\n",
    "        zoom_range=0.2,\n",
    "        horizontal_flip=True)                                                 \n",
    "training_set = train_datagen.flow_from_directory(\n",
    "        'dataset-sdcnd-capstone/data/real_training_data',\n",
    "        target_size=(150,150),\n",
    "        batch_size=32,\n",
    "        class_mode='sparse')                       "
   ]
  },
  {
   "cell_type": "code",
   "execution_count": null,
   "metadata": {
    "id": "KgpUNN5oCyqN"
   },
   "outputs": [],
   "source": [
    "test_datagen = ImageDataGenerator(rescale=1./255)                              \n",
    "test_set = test_datagen.flow_from_directory(\n",
    "        'dataset-sdcnd-capstone/data/validation_data',\n",
    "        target_size=(150,150),\n",
    "        batch_size=32,\n",
    "        class_mode='sparse')"
   ]
  },
  {
   "cell_type": "code",
   "execution_count": null,
   "metadata": {
    "id": "85TPkxv9C8zh"
   },
   "outputs": [],
   "source": [
    "cnn=tf.keras.models.Sequential()\n",
    "cnn.add(tf.keras.layers.Conv2D(filters=32, kernel_size=3, activation='relu', input_shape=[150,150,3]))    \n",
    "cnn.add(tf.keras.layers.MaxPool2D(pool_size=2, strides=2))                                              \n",
    "cnn.add(tf.keras.layers.Conv2D(filters=32, kernel_size=3, activation='relu'))                           \n",
    "cnn.add(tf.keras.layers.MaxPool2D(pool_size=2, strides=2))    \n",
    "cnn.add(tf.keras.layers.Flatten())       \n",
    "cnn.add(tf.keras.layers.Dense(units=128, activation='relu'))                    \n",
    "cnn.add(tf.keras.layers.Dense(units=64, activation='relu'))      \n",
    "cnn.add(tf.keras.layers.Dense(6, activation='softmax'))\n"
   ]
  },
  {
   "cell_type": "code",
   "execution_count": null,
   "metadata": {},
   "outputs": [],
   "source": [
    "cnn.compile(optimizer='adam',\n",
    "           loss=tf.keras.losses.SparseCategoricalCrossentropy(from_logits=True),\n",
    "           metrics=['accuracy'])"
   ]
  },
  {
   "cell_type": "code",
   "execution_count": null,
   "metadata": {
    "scrolled": true
   },
   "outputs": [],
   "source": [
    "cnn.summary()"
   ]
  },
  {
   "cell_type": "code",
   "execution_count": null,
   "metadata": {
    "scrolled": false
   },
   "outputs": [],
   "source": [
    "fitted=cnn.fit(x=training_set,\n",
    "              validation_data=test_set,\n",
    "              epochs=10)"
   ]
  },
  {
   "cell_type": "code",
   "execution_count": null,
   "metadata": {},
   "outputs": [],
   "source": [
    "print(\"Num GPUs Available: \", len(tf.config.experimental.list_physical_devices('GPU')))"
   ]
  },
  {
   "cell_type": "code",
   "execution_count": null,
   "metadata": {},
   "outputs": [],
   "source": []
  }
 ],
 "metadata": {
  "colab": {
   "collapsed_sections": [],
   "name": "PBL.ipynb",
   "provenance": []
  },
  "kernelspec": {
   "display_name": "Python 3",
   "language": "python",
   "name": "python3"
  },
  "language_info": {
   "codemirror_mode": {
    "name": "ipython",
    "version": 3
   },
   "file_extension": ".py",
   "mimetype": "text/x-python",
   "name": "python",
   "nbconvert_exporter": "python",
   "pygments_lexer": "ipython3",
   "version": "3.7.9"
  }
 },
 "nbformat": 4,
 "nbformat_minor": 4
}
