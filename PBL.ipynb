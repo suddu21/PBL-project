{
 "cells": [
  {
   "cell_type": "code",
   "execution_count": 1,
   "metadata": {
    "colab": {
     "base_uri": "https://localhost:8080/",
     "height": 35
    },
    "id": "SsGA0jBCCao8",
    "outputId": "ecc45581-ecfc-4fee-f63c-63ffb6ab3d62",
    "scrolled": false
   },
   "outputs": [
    {
     "name": "stderr",
     "output_type": "stream",
     "text": [
      "Using TensorFlow backend.\n"
     ]
    },
    {
     "data": {
      "text/plain": [
       "'2.1.0'"
      ]
     },
     "execution_count": 1,
     "metadata": {},
     "output_type": "execute_result"
    }
   ],
   "source": [
    "import tensorflow as tf                                                                                                   \n",
    "from keras.preprocessing.image import ImageDataGenerator                        \n",
    "import numpy as np         \n",
    "import PIL\n",
    "tf.__version__                                                                  "
   ]
  },
  {
   "cell_type": "code",
   "execution_count": 2,
   "metadata": {
    "id": "hsc-CDAHCpjZ"
   },
   "outputs": [
    {
     "name": "stdout",
     "output_type": "stream",
     "text": [
      "Found 710 images belonging to 5 classes.\n"
     ]
    }
   ],
   "source": [
    "train_datagen = ImageDataGenerator(                                             \n",
    "        rescale=1./255,\n",
    "        shear_range=0.2,\n",
    "        zoom_range=0.2,\n",
    "        horizontal_flip=True)                                                 \n",
    "training_set = train_datagen.flow_from_directory(\n",
    "        'dataset-sdcnd-capstone/data/real_training_data',\n",
    "        target_size=(150,150),\n",
    "        batch_size=32,\n",
    "        class_mode='sparse')                       "
   ]
  },
  {
   "cell_type": "code",
   "execution_count": 3,
   "metadata": {
    "id": "KgpUNN5oCyqN"
   },
   "outputs": [
    {
     "name": "stdout",
     "output_type": "stream",
     "text": [
      "Found 6 images belonging to 1 classes.\n"
     ]
    }
   ],
   "source": [
    "test_datagen = ImageDataGenerator(rescale=1./255)                              \n",
    "test_set = test_datagen.flow_from_directory(\n",
    "        'dataset-sdcnd-capstone/data/validation_data',\n",
    "        target_size=(150,150),\n",
    "        batch_size=32,\n",
    "        class_mode='sparse')"
   ]
  },
  {
   "cell_type": "code",
   "execution_count": 4,
   "metadata": {
    "id": "85TPkxv9C8zh"
   },
   "outputs": [],
   "source": [
    "cnn=tf.keras.models.Sequential()\n",
    "cnn.add(tf.keras.layers.Conv2D(filters=32, kernel_size=3, activation='relu', input_shape=[150,150,3]))    \n",
    "cnn.add(tf.keras.layers.MaxPool2D(pool_size=2, strides=2))                                              \n",
    "cnn.add(tf.keras.layers.Conv2D(filters=32, kernel_size=3, activation='relu'))                           \n",
    "cnn.add(tf.keras.layers.MaxPool2D(pool_size=2, strides=2))    \n",
    "cnn.add(tf.keras.layers.Flatten())       \n",
    "cnn.add(tf.keras.layers.Dense(units=128, activation='relu'))                    \n",
    "cnn.add(tf.keras.layers.Dense(units=64, activation='relu'))      \n",
    "cnn.add(tf.keras.layers.Dense(6, activation='softmax'))\n"
   ]
  },
  {
   "cell_type": "code",
   "execution_count": 5,
   "metadata": {},
   "outputs": [],
   "source": [
    "cnn.compile(optimizer='adam',\n",
    "           loss=tf.keras.losses.SparseCategoricalCrossentropy(from_logits=True),\n",
    "           metrics=['accuracy'])"
   ]
  },
  {
   "cell_type": "code",
   "execution_count": 6,
   "metadata": {
    "scrolled": true
   },
   "outputs": [
    {
     "name": "stdout",
     "output_type": "stream",
     "text": [
      "Model: \"sequential\"\n",
      "_________________________________________________________________\n",
      "Layer (type)                 Output Shape              Param #   \n",
      "=================================================================\n",
      "conv2d (Conv2D)              (None, 148, 148, 32)      896       \n",
      "_________________________________________________________________\n",
      "max_pooling2d (MaxPooling2D) (None, 74, 74, 32)        0         \n",
      "_________________________________________________________________\n",
      "conv2d_1 (Conv2D)            (None, 72, 72, 32)        9248      \n",
      "_________________________________________________________________\n",
      "max_pooling2d_1 (MaxPooling2 (None, 36, 36, 32)        0         \n",
      "_________________________________________________________________\n",
      "flatten (Flatten)            (None, 41472)             0         \n",
      "_________________________________________________________________\n",
      "dense (Dense)                (None, 128)               5308544   \n",
      "_________________________________________________________________\n",
      "dense_1 (Dense)              (None, 64)                8256      \n",
      "_________________________________________________________________\n",
      "dense_2 (Dense)              (None, 6)                 390       \n",
      "=================================================================\n",
      "Total params: 5,327,334\n",
      "Trainable params: 5,327,334\n",
      "Non-trainable params: 0\n",
      "_________________________________________________________________\n"
     ]
    }
   ],
   "source": [
    "cnn.summary()"
   ]
  },
  {
   "cell_type": "code",
   "execution_count": 7,
   "metadata": {
    "scrolled": false
   },
   "outputs": [
    {
     "name": "stdout",
     "output_type": "stream",
     "text": [
      "WARNING:tensorflow:sample_weight modes were coerced from\n",
      "  ...\n",
      "    to  \n",
      "  ['...']\n",
      "WARNING:tensorflow:sample_weight modes were coerced from\n",
      "  ...\n",
      "    to  \n",
      "  ['...']\n",
      "Train for 23 steps, validate for 1 steps\n",
      "Epoch 1/10\n",
      "23/23 [==============================] - 22s 938ms/step - loss: 1.5968 - accuracy: 0.4451 - val_loss: 1.0436 - val_accuracy: 1.0000\n",
      "Epoch 2/10\n",
      "23/23 [==============================] - 20s 881ms/step - loss: 1.5844 - accuracy: 0.4577 - val_loss: 1.0436 - val_accuracy: 1.0000\n",
      "Epoch 3/10\n",
      "23/23 [==============================] - 20s 890ms/step - loss: 1.5844 - accuracy: 0.4577 - val_loss: 1.0436 - val_accuracy: 1.0000\n",
      "Epoch 4/10\n",
      "23/23 [==============================] - 21s 895ms/step - loss: 1.5844 - accuracy: 0.4577 - val_loss: 1.0436 - val_accuracy: 1.0000\n",
      "Epoch 5/10\n",
      "23/23 [==============================] - 20s 885ms/step - loss: 1.5844 - accuracy: 0.4577 - val_loss: 1.0436 - val_accuracy: 1.0000\n",
      "Epoch 6/10\n",
      "23/23 [==============================] - 21s 893ms/step - loss: 1.5844 - accuracy: 0.4577 - val_loss: 1.0436 - val_accuracy: 1.0000\n",
      "Epoch 7/10\n",
      "23/23 [==============================] - 21s 896ms/step - loss: 1.5844 - accuracy: 0.4577 - val_loss: 1.0436 - val_accuracy: 1.0000\n",
      "Epoch 8/10\n",
      "23/23 [==============================] - 20s 886ms/step - loss: 1.5844 - accuracy: 0.4577 - val_loss: 1.0436 - val_accuracy: 1.0000\n",
      "Epoch 9/10\n",
      "23/23 [==============================] - 20s 890ms/step - loss: 1.5844 - accuracy: 0.4577 - val_loss: 1.0436 - val_accuracy: 1.0000\n",
      "Epoch 10/10\n",
      "23/23 [==============================] - 21s 891ms/step - loss: 1.5844 - accuracy: 0.4577 - val_loss: 1.0436 - val_accuracy: 1.0000\n"
     ]
    }
   ],
   "source": [
    "fitted=cnn.fit(x=training_set,\n",
    "              validation_data=test_set,\n",
    "              epochs=10)"
   ]
  },
  {
   "cell_type": "code",
   "execution_count": 8,
   "metadata": {},
   "outputs": [
    {
     "name": "stdout",
     "output_type": "stream",
     "text": [
      "Num GPUs Available:  0\n"
     ]
    }
   ],
   "source": [
    "print(\"Num GPUs Available: \", len(tf.config.experimental.list_physical_devices('GPU')))"
   ]
  },
  {
   "cell_type": "code",
   "execution_count": null,
   "metadata": {},
   "outputs": [],
   "source": []
  }
 ],
 "metadata": {
  "colab": {
   "collapsed_sections": [],
   "name": "PBL.ipynb",
   "provenance": []
  },
  "kernelspec": {
   "display_name": "Python 3",
   "language": "python",
   "name": "python3"
  },
  "language_info": {
   "codemirror_mode": {
    "name": "ipython",
    "version": 3
   },
   "file_extension": ".py",
   "mimetype": "text/x-python",
   "name": "python",
   "nbconvert_exporter": "python",
   "pygments_lexer": "ipython3",
   "version": "3.7.9"
  }
 },
 "nbformat": 4,
 "nbformat_minor": 4
}
